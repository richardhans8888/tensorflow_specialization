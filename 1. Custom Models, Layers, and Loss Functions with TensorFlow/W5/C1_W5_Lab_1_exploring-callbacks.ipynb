{
 "cells": [
  {
   "cell_type": "markdown",
   "metadata": {
    "colab_type": "text",
    "id": "view-in-github"
   },
   "source": [
    "<a href=\"https://colab.research.google.com/github/https-deeplearning-ai/tensorflow-3-public/blob/main/Course%201%20-%20Custom%20Models%2C%20Layers%20and%20Loss%20Functions/Week%205%20-%20Callbacks/C1_W5_Lab_1_exploring-callbacks.ipynb\" target=\"_parent\"><img src=\"https://colab.research.google.com/assets/colab-badge.svg\" alt=\"Open In Colab\"/></a>"
   ]
  },
  {
   "cell_type": "markdown",
   "metadata": {
    "colab_type": "text",
    "id": "0c_TYhQOUe1j"
   },
   "source": [
    "# Ungraded Lab: Introduction to Keras callbacks\n",
    "\n",
    "In Keras, `Callback` is a Python class meant to be subclassed to provide specific functionality, with a set of methods called at various stages of training (including batch/epoch start and ends), testing, and predicting. Callbacks are useful to get a view on internal states and statistics of the model during training. The methods of the callbacks can  be called at different stages of training/evaluating/inference. Keras has available [callbacks](https://keras.io/api/callbacks/) and we'll show how you can use it in the following sections. Please click the **Open in Colab** badge above to complete this exercise in Colab. This will allow you to take advantage of the free GPU runtime (for faster training) and compatibility with all the packages needed in this notebook."
   ]
  },
  {
   "cell_type": "markdown",
   "metadata": {
    "colab_type": "text",
    "id": "Uyl69EyRQx-f"
   },
   "source": [
    "## Model methods that take callbacks\n",
    "Users can supply a list of callbacks to the following `tf.keras.Model` methods:\n",
    "* [`fit()`](https://www.tensorflow.org/versions/r2.0/api_docs/python/tf/keras/Model#fit), [`fit_generator()`](https://www.tensorflow.org/versions/r2.0/api_docs/python/tf/keras/Model#fit_generator)\n",
    "Trains the model for a fixed number of epochs (iterations over a dataset, or data yielded batch-by-batch by a Python generator).\n",
    "* [`evaluate()`](https://www.tensorflow.org/versions/r2.0/api_docs/python/tf/keras/Model#evaluate), [`evaluate_generator()`](https://www.tensorflow.org/versions/r2.0/api_docs/python/tf/keras/Model#evaluate_generator)\n",
    "Evaluates the model for given data or data generator. Outputs the loss and metric values from the evaluation.\n",
    "* [`predict()`](https://www.tensorflow.org/versions/r2.0/api_docs/python/tf/keras/Model#predict), [`predict_generator()`](https://www.tensorflow.org/versions/r2.0/api_docs/python/tf/keras/Model#predict_generator)\n",
    "Generates output predictions for the input data or data generator."
   ]
  },
  {
   "cell_type": "markdown",
   "metadata": {},
   "source": [
    "## Imports"
   ]
  },
  {
   "cell_type": "code",
   "execution_count": 1,
   "metadata": {
    "colab": {},
    "colab_type": "code",
    "id": "AlT1Kh3uA9lZ"
   },
   "outputs": [
    {
     "name": "stdout",
     "output_type": "stream",
     "text": [
      "Version:  2.1.0\n"
     ]
    }
   ],
   "source": [
    "from __future__ import absolute_import, division, print_function, unicode_literals\n",
    "\n",
    "try:\n",
    "    # %tensorflow_version only exists in Colab.\n",
    "    %tensorflow_version 2.x\n",
    "except Exception:\n",
    "    pass\n",
    "\n",
    "import tensorflow as tf\n",
    "import tensorflow_datasets as tfds\n",
    "import matplotlib.pyplot as plt\n",
    "import io\n",
    "from PIL import Image\n",
    "\n",
    "from tensorflow.keras.callbacks import TensorBoard, EarlyStopping, LearningRateScheduler, ModelCheckpoint, CSVLogger, ReduceLROnPlateau\n",
    "%load_ext tensorboard\n",
    "\n",
    "import os\n",
    "import matplotlib.pylab as plt\n",
    "import numpy as np\n",
    "import math\n",
    "import datetime\n",
    "import pandas as pd\n",
    "\n",
    "print(\"Version: \", tf.__version__)\n",
    "tf.get_logger().setLevel('INFO')"
   ]
  },
  {
   "cell_type": "markdown",
   "metadata": {
    "colab_type": "text",
    "id": "HnSljqtsXKfb"
   },
   "source": [
    "# Examples of Keras callback applications\n",
    "The following section will guide you through creating simple [Callback](https://keras.io/api/callbacks/) applications."
   ]
  },
  {
   "cell_type": "code",
   "execution_count": 2,
   "metadata": {
    "colab": {},
    "colab_type": "code",
    "id": "spskRuxvCYQE"
   },
   "outputs": [],
   "source": [
    "# Download and prepare the horses or humans dataset\n",
    "\n",
    "# horses_or_humans 3.0.0 has already been downloaded for you\n",
    "path = \"./tensorflow_datasets\"\n",
    "splits, info = tfds.load('horses_or_humans', data_dir=path, as_supervised=True, with_info=True, split=['train[:80%]', 'train[80%:]', 'test'])\n",
    "\n",
    "(train_examples, validation_examples, test_examples) = splits\n",
    "\n",
    "num_examples = info.splits['train'].num_examples\n",
    "num_classes = info.features['label'].num_classes"
   ]
  },
  {
   "cell_type": "code",
   "execution_count": 3,
   "metadata": {
    "colab": {},
    "colab_type": "code",
    "id": "veIsubKTCZsN"
   },
   "outputs": [],
   "source": [
    "SIZE = 150 #@param {type:\"slider\", min:64, max:300, step:1}\n",
    "IMAGE_SIZE = (SIZE, SIZE)"
   ]
  },
  {
   "cell_type": "code",
   "execution_count": 4,
   "metadata": {
    "colab": {},
    "colab_type": "code",
    "id": "faajLlErCb1S"
   },
   "outputs": [],
   "source": [
    "def format_image(image, label):\n",
    "  image = tf.image.resize(image, IMAGE_SIZE) / 255.0\n",
    "  return  image, label"
   ]
  },
  {
   "cell_type": "code",
   "execution_count": 5,
   "metadata": {
    "colab": {},
    "colab_type": "code",
    "id": "AVXPuU12Cdka"
   },
   "outputs": [],
   "source": [
    "BATCH_SIZE = 32 #@param {type:\"integer\"}"
   ]
  },
  {
   "cell_type": "code",
   "execution_count": 6,
   "metadata": {
    "colab": {},
    "colab_type": "code",
    "id": "0lHDkFVaCe48"
   },
   "outputs": [],
   "source": [
    "train_batches = train_examples.shuffle(num_examples // 4).map(format_image).batch(BATCH_SIZE).prefetch(1)\n",
    "validation_batches = validation_examples.map(format_image).batch(BATCH_SIZE).prefetch(1)\n",
    "test_batches = test_examples.map(format_image).batch(1)"
   ]
  },
  {
   "cell_type": "code",
   "execution_count": 7,
   "metadata": {
    "colab": {},
    "colab_type": "code",
    "id": "DxsCqEIkCgUt"
   },
   "outputs": [
    {
     "data": {
      "text/plain": [
       "TensorShape([32, 150, 150, 3])"
      ]
     },
     "execution_count": 7,
     "metadata": {},
     "output_type": "execute_result"
    }
   ],
   "source": [
    "for image_batch, label_batch in train_batches.take(1):\n",
    "  pass\n",
    "\n",
    "image_batch.shape"
   ]
  },
  {
   "cell_type": "code",
   "execution_count": 8,
   "metadata": {
    "colab": {},
    "colab_type": "code",
    "id": "iDBpWvHXCh2A"
   },
   "outputs": [],
   "source": [
    "def build_model(dense_units, input_shape=IMAGE_SIZE + (3,)):\n",
    "  model = tf.keras.models.Sequential([\n",
    "      tf.keras.layers.Conv2D(16, (3, 3), activation='relu', input_shape=input_shape),\n",
    "      tf.keras.layers.MaxPooling2D(2, 2),\n",
    "      tf.keras.layers.Conv2D(32, (3, 3), activation='relu'),\n",
    "      tf.keras.layers.MaxPooling2D(2, 2),\n",
    "      tf.keras.layers.Conv2D(64, (3, 3), activation='relu'),\n",
    "      tf.keras.layers.MaxPooling2D(2, 2),\n",
    "      tf.keras.layers.Flatten(),\n",
    "      tf.keras.layers.Dense(dense_units, activation='relu'),\n",
    "      tf.keras.layers.Dense(2, activation='softmax')\n",
    "  ])\n",
    "  return model"
   ]
  },
  {
   "cell_type": "markdown",
   "metadata": {
    "colab_type": "text",
    "id": "0ZKGkjagENSw"
   },
   "source": [
    "## [TensorBoard](https://keras.io/api/callbacks/tensorboard/)\n",
    "\n",
    "Enable visualizations for TensorBoard."
   ]
  },
  {
   "cell_type": "code",
   "execution_count": 9,
   "metadata": {
    "colab": {},
    "colab_type": "code",
    "id": "CeiD2WVEHbex"
   },
   "outputs": [],
   "source": [
    "!rm -rf logs"
   ]
  },
  {
   "cell_type": "code",
   "execution_count": 10,
   "metadata": {
    "colab": {},
    "colab_type": "code",
    "id": "PpLwPLnAEOzv"
   },
   "outputs": [
    {
     "name": "stdout",
     "output_type": "stream",
     "text": [
      "Epoch 1/10\n",
      "26/26 [==============================] - 21s 821ms/step - loss: 0.6819 - accuracy: 0.5414 - val_loss: 0.6957 - val_accuracy: 0.4341\n",
      "Epoch 2/10\n",
      "26/26 [==============================] - 20s 780ms/step - loss: 0.6635 - accuracy: 0.5900 - val_loss: 0.6637 - val_accuracy: 0.5659\n",
      "Epoch 3/10\n",
      "26/26 [==============================] - 20s 777ms/step - loss: 0.6326 - accuracy: 0.7129 - val_loss: 0.6279 - val_accuracy: 0.7171\n",
      "Epoch 4/10\n",
      "26/26 [==============================] - 20s 781ms/step - loss: 0.5887 - accuracy: 0.7543 - val_loss: 0.5765 - val_accuracy: 0.7610\n",
      "Epoch 5/10\n",
      "26/26 [==============================] - 20s 777ms/step - loss: 0.5430 - accuracy: 0.7774 - val_loss: 0.5410 - val_accuracy: 0.7317\n",
      "Epoch 6/10\n",
      "26/26 [==============================] - 20s 780ms/step - loss: 0.4809 - accuracy: 0.8041 - val_loss: 0.4794 - val_accuracy: 0.8244\n",
      "Epoch 7/10\n",
      "26/26 [==============================] - 20s 781ms/step - loss: 0.4200 - accuracy: 0.8370 - val_loss: 0.5202 - val_accuracy: 0.6732\n",
      "Epoch 8/10\n",
      "26/26 [==============================] - 20s 769ms/step - loss: 0.3635 - accuracy: 0.8552 - val_loss: 0.3855 - val_accuracy: 0.8537\n",
      "Epoch 9/10\n",
      "26/26 [==============================] - 20s 777ms/step - loss: 0.2830 - accuracy: 0.9148 - val_loss: 0.2318 - val_accuracy: 0.9220\n",
      "Epoch 10/10\n",
      "26/26 [==============================] - 20s 777ms/step - loss: 0.2691 - accuracy: 0.8942 - val_loss: 0.1946 - val_accuracy: 0.9463\n"
     ]
    },
    {
     "data": {
      "text/plain": [
       "<tensorflow.python.keras.callbacks.History at 0x7750c9061ed0>"
      ]
     },
     "execution_count": 10,
     "metadata": {},
     "output_type": "execute_result"
    }
   ],
   "source": [
    "model = build_model(dense_units=256)\n",
    "model.compile(\n",
    "    optimizer='sgd',\n",
    "    loss='sparse_categorical_crossentropy', \n",
    "    metrics=['accuracy'])\n",
    "  \n",
    "logdir = os.path.join(\"logs\", datetime.datetime.now().strftime(\"%Y%m%d-%H%M%S\"))\n",
    "tensorboard_callback = tf.keras.callbacks.TensorBoard(logdir)\n",
    "\n",
    "model.fit(train_batches, \n",
    "          epochs=10, \n",
    "          validation_data=validation_batches, \n",
    "          callbacks=[tensorboard_callback])"
   ]
  },
  {
   "cell_type": "code",
   "execution_count": 11,
   "metadata": {
    "colab": {},
    "colab_type": "code",
    "id": "iJunWOjZE0ir"
   },
   "outputs": [
    {
     "data": {
      "text/html": [
       "\n",
       "      <iframe id=\"tensorboard-frame-3cb1c5bfa933f97c\" width=\"100%\" height=\"800\" frameborder=\"0\">\n",
       "      </iframe>\n",
       "      <script>\n",
       "        (function() {\n",
       "          const frame = document.getElementById(\"tensorboard-frame-3cb1c5bfa933f97c\");\n",
       "          const url = new URL(\"/\", window.location);\n",
       "          url.port = 6006;\n",
       "          frame.src = url;\n",
       "        })();\n",
       "      </script>\n",
       "  "
      ],
      "text/plain": [
       "<IPython.core.display.HTML object>"
      ]
     },
     "metadata": {},
     "output_type": "display_data"
    }
   ],
   "source": [
    "%tensorboard --logdir logs"
   ]
  },
  {
   "cell_type": "markdown",
   "metadata": {
    "colab_type": "text",
    "id": "wv9H4Pc2Mfl7"
   },
   "source": [
    "## [Model Checkpoint](https://keras.io/api/callbacks/model_checkpoint/)\n",
    "\n",
    "Callback to save the Keras model or model weights at some frequency."
   ]
  },
  {
   "cell_type": "code",
   "execution_count": 12,
   "metadata": {
    "colab": {},
    "colab_type": "code",
    "id": "PYV4FJ8iMmDq"
   },
   "outputs": [
    {
     "name": "stdout",
     "output_type": "stream",
     "text": [
      "Epoch 1/5\n",
      "\n",
      "Epoch 00001: saving model to weights.01-0.67.h5\n",
      "26/26 - 21s - loss: 0.6789 - accuracy: 0.5377 - val_loss: 0.6738 - val_accuracy: 0.5073\n",
      "Epoch 2/5\n",
      "\n",
      "Epoch 00002: saving model to weights.02-0.64.h5\n",
      "26/26 - 21s - loss: 0.6507 - accuracy: 0.6350 - val_loss: 0.6394 - val_accuracy: 0.7854\n",
      "Epoch 3/5\n",
      "\n",
      "Epoch 00003: saving model to weights.03-0.60.h5\n",
      "26/26 - 20s - loss: 0.6073 - accuracy: 0.7336 - val_loss: 0.5971 - val_accuracy: 0.7707\n",
      "Epoch 4/5\n",
      "\n",
      "Epoch 00004: saving model to weights.04-0.55.h5\n",
      "26/26 - 20s - loss: 0.5536 - accuracy: 0.7713 - val_loss: 0.5477 - val_accuracy: 0.7756\n",
      "Epoch 5/5\n",
      "\n",
      "Epoch 00005: saving model to weights.05-0.46.h5\n",
      "26/26 - 20s - loss: 0.4919 - accuracy: 0.8041 - val_loss: 0.4568 - val_accuracy: 0.7951\n"
     ]
    },
    {
     "data": {
      "text/plain": [
       "<tensorflow.python.keras.callbacks.History at 0x7750c8eaf510>"
      ]
     },
     "execution_count": 12,
     "metadata": {},
     "output_type": "execute_result"
    }
   ],
   "source": [
    "model = build_model(dense_units=256)\n",
    "model.compile(\n",
    "    optimizer='sgd',\n",
    "    loss='sparse_categorical_crossentropy', \n",
    "    metrics=['accuracy'])\n",
    "  \n",
    "model.fit(train_batches, \n",
    "          epochs=5, \n",
    "          validation_data=validation_batches, \n",
    "          verbose=2,\n",
    "          callbacks=[ModelCheckpoint('weights.{epoch:02d}-{val_loss:.2f}.h5', verbose=1),\n",
    "          ])"
   ]
  },
  {
   "cell_type": "code",
   "execution_count": 13,
   "metadata": {
    "colab": {},
    "colab_type": "code",
    "id": "oGvjQ8IlMmK6"
   },
   "outputs": [
    {
     "name": "stdout",
     "output_type": "stream",
     "text": [
      "\n",
      "Epoch 00001: saving model to saved_model\n",
      "WARNING:tensorflow:From /opt/conda/lib/python3.7/site-packages/tensorflow_core/python/ops/resource_variable_ops.py:1786: calling BaseResourceVariable.__init__ (from tensorflow.python.ops.resource_variable_ops) with constraint is deprecated and will be removed in a future version.\n",
      "Instructions for updating:\n",
      "If using Keras pass *_constraint arguments to layers.\n"
     ]
    },
    {
     "name": "stderr",
     "output_type": "stream",
     "text": [
      "WARNING:tensorflow:From /opt/conda/lib/python3.7/site-packages/tensorflow_core/python/ops/resource_variable_ops.py:1786: calling BaseResourceVariable.__init__ (from tensorflow.python.ops.resource_variable_ops) with constraint is deprecated and will be removed in a future version.\n",
      "Instructions for updating:\n",
      "If using Keras pass *_constraint arguments to layers.\n"
     ]
    },
    {
     "name": "stdout",
     "output_type": "stream",
     "text": [
      "INFO:tensorflow:Assets written to: saved_model/assets\n"
     ]
    },
    {
     "name": "stderr",
     "output_type": "stream",
     "text": [
      "INFO:tensorflow:Assets written to: saved_model/assets\n"
     ]
    },
    {
     "name": "stdout",
     "output_type": "stream",
     "text": [
      "26/26 - 22s - loss: 0.6680 - accuracy: 0.6095 - val_loss: 0.6479 - val_accuracy: 0.5561\n"
     ]
    },
    {
     "data": {
      "text/plain": [
       "<tensorflow.python.keras.callbacks.History at 0x7750c8d25150>"
      ]
     },
     "execution_count": 13,
     "metadata": {},
     "output_type": "execute_result"
    }
   ],
   "source": [
    "model = build_model(dense_units=256)\n",
    "model.compile(\n",
    "    optimizer='sgd',\n",
    "    loss='sparse_categorical_crossentropy', \n",
    "    metrics=['accuracy'])\n",
    "  \n",
    "model.fit(train_batches, \n",
    "          epochs=1, \n",
    "          validation_data=validation_batches, \n",
    "          verbose=2,\n",
    "          callbacks=[ModelCheckpoint('saved_model', verbose=1)\n",
    "          ])"
   ]
  },
  {
   "cell_type": "code",
   "execution_count": 14,
   "metadata": {
    "colab": {},
    "colab_type": "code",
    "id": "Y1ConwoB0EjD"
   },
   "outputs": [
    {
     "name": "stdout",
     "output_type": "stream",
     "text": [
      "Epoch 1/2\n",
      "\n",
      "Epoch 00001: saving model to model.h5\n",
      "26/26 - 21s - loss: 0.6655 - accuracy: 0.6022 - val_loss: 0.6565 - val_accuracy: 0.5415\n",
      "Epoch 2/2\n",
      "\n",
      "Epoch 00002: saving model to model.h5\n",
      "26/26 - 21s - loss: 0.5968 - accuracy: 0.6934 - val_loss: 0.5561 - val_accuracy: 0.7366\n"
     ]
    },
    {
     "data": {
      "text/plain": [
       "<tensorflow.python.keras.callbacks.History at 0x7750c8bf26d0>"
      ]
     },
     "execution_count": 14,
     "metadata": {},
     "output_type": "execute_result"
    }
   ],
   "source": [
    "model = build_model(dense_units=256)\n",
    "model.compile(\n",
    "    optimizer='sgd',\n",
    "    loss='sparse_categorical_crossentropy', \n",
    "    metrics=['accuracy'])\n",
    "  \n",
    "model.fit(train_batches, \n",
    "          epochs=2, \n",
    "          validation_data=validation_batches, \n",
    "          verbose=2,\n",
    "          callbacks=[ModelCheckpoint('model.h5', verbose=1)\n",
    "          ])"
   ]
  },
  {
   "cell_type": "markdown",
   "metadata": {
    "colab_type": "text",
    "id": "kptNF0--Lznv"
   },
   "source": [
    "## [Early stopping](https://keras.io/api/callbacks/early_stopping/)\n",
    "\n",
    "Stop training when a monitored metric has stopped improving."
   ]
  },
  {
   "cell_type": "code",
   "execution_count": 15,
   "metadata": {
    "colab": {},
    "colab_type": "code",
    "id": "KJOJTJYdCkdY"
   },
   "outputs": [
    {
     "name": "stdout",
     "output_type": "stream",
     "text": [
      "Epoch 1/50\n",
      "26/26 - 21s - loss: 0.6637 - accuracy: 0.5742 - val_loss: 0.6317 - val_accuracy: 0.7805\n",
      "Epoch 2/50\n",
      "26/26 - 20s - loss: 0.6193 - accuracy: 0.6934 - val_loss: 0.5925 - val_accuracy: 0.6488\n",
      "Epoch 3/50\n",
      "26/26 - 20s - loss: 0.5482 - accuracy: 0.7470 - val_loss: 0.5847 - val_accuracy: 0.6537\n",
      "Epoch 4/50\n",
      "26/26 - 20s - loss: 0.5139 - accuracy: 0.7555 - val_loss: 0.4469 - val_accuracy: 0.8098\n",
      "Epoch 5/50\n",
      "26/26 - 20s - loss: 0.4555 - accuracy: 0.8102 - val_loss: 0.4385 - val_accuracy: 0.8439\n",
      "Epoch 6/50\n",
      "26/26 - 20s - loss: 0.4029 - accuracy: 0.8236 - val_loss: 0.3738 - val_accuracy: 0.8829\n",
      "Epoch 7/50\n",
      "26/26 - 20s - loss: 0.3663 - accuracy: 0.8601 - val_loss: 0.4112 - val_accuracy: 0.8439\n",
      "Epoch 8/50\n",
      "26/26 - 20s - loss: 0.2831 - accuracy: 0.9002 - val_loss: 0.2392 - val_accuracy: 0.9171\n",
      "Epoch 9/50\n",
      "26/26 - 20s - loss: 0.2582 - accuracy: 0.8966 - val_loss: 0.3018 - val_accuracy: 0.8390\n",
      "Epoch 10/50\n",
      "26/26 - 21s - loss: 0.2181 - accuracy: 0.9343 - val_loss: 0.1482 - val_accuracy: 0.9561\n",
      "Epoch 11/50\n",
      "26/26 - 20s - loss: 0.1917 - accuracy: 0.9416 - val_loss: 0.1294 - val_accuracy: 0.9512\n",
      "Epoch 12/50\n",
      "26/26 - 20s - loss: 0.1473 - accuracy: 0.9586 - val_loss: 0.4982 - val_accuracy: 0.7610\n",
      "Epoch 13/50\n",
      "26/26 - 20s - loss: 0.1384 - accuracy: 0.9611 - val_loss: 0.0857 - val_accuracy: 0.9805\n",
      "Epoch 14/50\n",
      "26/26 - 20s - loss: 0.0866 - accuracy: 0.9854 - val_loss: 0.1005 - val_accuracy: 0.9512\n",
      "Epoch 15/50\n",
      "26/26 - 21s - loss: 0.0754 - accuracy: 0.9891 - val_loss: 0.0795 - val_accuracy: 0.9659\n",
      "Epoch 16/50\n",
      "Restoring model weights from the end of the best epoch.\n",
      "26/26 - 20s - loss: 0.0640 - accuracy: 0.9866 - val_loss: 0.0811 - val_accuracy: 0.9659\n",
      "Epoch 00016: early stopping\n"
     ]
    },
    {
     "data": {
      "text/plain": [
       "<tensorflow.python.keras.callbacks.History at 0x7750c896d510>"
      ]
     },
     "execution_count": 15,
     "metadata": {},
     "output_type": "execute_result"
    }
   ],
   "source": [
    "model = build_model(dense_units=256)\n",
    "model.compile(\n",
    "    optimizer='sgd',\n",
    "    loss='sparse_categorical_crossentropy', \n",
    "    metrics=['accuracy'])\n",
    "  \n",
    "model.fit(train_batches, \n",
    "          epochs=50, \n",
    "          validation_data=validation_batches, \n",
    "          verbose=2,\n",
    "          callbacks=[EarlyStopping(\n",
    "              patience=3,\n",
    "              min_delta=0.05,\n",
    "              baseline=0.8,\n",
    "              mode='min',\n",
    "              monitor='val_loss',\n",
    "              restore_best_weights=True,\n",
    "              verbose=1)\n",
    "          ])"
   ]
  },
  {
   "cell_type": "markdown",
   "metadata": {
    "colab_type": "text",
    "id": "8mDzWUD4Pqq5"
   },
   "source": [
    "## [CSV Logger](https://keras.io/api/callbacks/csv_logger/)\n",
    "\n",
    "Callback that streams epoch results to a CSV file."
   ]
  },
  {
   "cell_type": "code",
   "execution_count": 16,
   "metadata": {
    "colab": {},
    "colab_type": "code",
    "id": "cffnMpmGPtMh"
   },
   "outputs": [
    {
     "name": "stdout",
     "output_type": "stream",
     "text": [
      "Epoch 1/5\n",
      "26/26 [==============================] - 21s 799ms/step - loss: 0.6590 - accuracy: 0.5973 - val_loss: 0.6616 - val_accuracy: 0.5220\n",
      "Epoch 2/5\n",
      "26/26 [==============================] - 21s 790ms/step - loss: 0.5826 - accuracy: 0.7275 - val_loss: 0.5472 - val_accuracy: 0.7317\n",
      "Epoch 3/5\n",
      "26/26 [==============================] - 21s 792ms/step - loss: 0.5328 - accuracy: 0.7336 - val_loss: 0.5609 - val_accuracy: 0.6829\n",
      "Epoch 4/5\n",
      "26/26 [==============================] - 21s 789ms/step - loss: 0.4697 - accuracy: 0.7835 - val_loss: 0.4204 - val_accuracy: 0.7902\n",
      "Epoch 5/5\n",
      "26/26 [==============================] - 20s 782ms/step - loss: 0.4288 - accuracy: 0.8029 - val_loss: 0.3958 - val_accuracy: 0.8780\n"
     ]
    },
    {
     "data": {
      "text/plain": [
       "<tensorflow.python.keras.callbacks.History at 0x7750c88dded0>"
      ]
     },
     "execution_count": 16,
     "metadata": {},
     "output_type": "execute_result"
    }
   ],
   "source": [
    "model = build_model(dense_units=256)\n",
    "model.compile(\n",
    "    optimizer='sgd',\n",
    "    loss='sparse_categorical_crossentropy', \n",
    "    metrics=['accuracy'])\n",
    "  \n",
    "csv_file = 'training.csv'\n",
    "\n",
    "model.fit(train_batches, \n",
    "          epochs=5, \n",
    "          validation_data=validation_batches, \n",
    "          callbacks=[CSVLogger(csv_file)\n",
    "          ])"
   ]
  },
  {
   "cell_type": "code",
   "execution_count": 17,
   "metadata": {
    "colab": {},
    "colab_type": "code",
    "id": "B9tkYi03QV7R"
   },
   "outputs": [
    {
     "data": {
      "text/html": [
       "<div>\n",
       "<style scoped>\n",
       "    .dataframe tbody tr th:only-of-type {\n",
       "        vertical-align: middle;\n",
       "    }\n",
       "\n",
       "    .dataframe tbody tr th {\n",
       "        vertical-align: top;\n",
       "    }\n",
       "\n",
       "    .dataframe thead th {\n",
       "        text-align: right;\n",
       "    }\n",
       "</style>\n",
       "<table border=\"1\" class=\"dataframe\">\n",
       "  <thead>\n",
       "    <tr style=\"text-align: right;\">\n",
       "      <th></th>\n",
       "      <th>epoch</th>\n",
       "      <th>accuracy</th>\n",
       "      <th>loss</th>\n",
       "      <th>val_accuracy</th>\n",
       "      <th>val_loss</th>\n",
       "    </tr>\n",
       "  </thead>\n",
       "  <tbody>\n",
       "    <tr>\n",
       "      <th>0</th>\n",
       "      <td>0</td>\n",
       "      <td>0.597324</td>\n",
       "      <td>0.659255</td>\n",
       "      <td>0.521951</td>\n",
       "      <td>0.661648</td>\n",
       "    </tr>\n",
       "    <tr>\n",
       "      <th>1</th>\n",
       "      <td>1</td>\n",
       "      <td>0.727494</td>\n",
       "      <td>0.582978</td>\n",
       "      <td>0.731707</td>\n",
       "      <td>0.547152</td>\n",
       "    </tr>\n",
       "    <tr>\n",
       "      <th>2</th>\n",
       "      <td>2</td>\n",
       "      <td>0.733577</td>\n",
       "      <td>0.533828</td>\n",
       "      <td>0.682927</td>\n",
       "      <td>0.560866</td>\n",
       "    </tr>\n",
       "    <tr>\n",
       "      <th>3</th>\n",
       "      <td>3</td>\n",
       "      <td>0.783455</td>\n",
       "      <td>0.470401</td>\n",
       "      <td>0.790244</td>\n",
       "      <td>0.420401</td>\n",
       "    </tr>\n",
       "    <tr>\n",
       "      <th>4</th>\n",
       "      <td>4</td>\n",
       "      <td>0.802920</td>\n",
       "      <td>0.428887</td>\n",
       "      <td>0.878049</td>\n",
       "      <td>0.395796</td>\n",
       "    </tr>\n",
       "  </tbody>\n",
       "</table>\n",
       "</div>"
      ],
      "text/plain": [
       "   epoch  accuracy      loss  val_accuracy  val_loss\n",
       "0      0  0.597324  0.659255      0.521951  0.661648\n",
       "1      1  0.727494  0.582978      0.731707  0.547152\n",
       "2      2  0.733577  0.533828      0.682927  0.560866\n",
       "3      3  0.783455  0.470401      0.790244  0.420401\n",
       "4      4  0.802920  0.428887      0.878049  0.395796"
      ]
     },
     "execution_count": 17,
     "metadata": {},
     "output_type": "execute_result"
    }
   ],
   "source": [
    "pd.read_csv(csv_file).head()"
   ]
  },
  {
   "cell_type": "markdown",
   "metadata": {
    "colab_type": "text",
    "id": "Dt9C2Y9fRBKN"
   },
   "source": [
    "## [Learning Rate Scheduler](https://keras.io/api/callbacks/learning_rate_scheduler/)\n",
    "\n",
    "Updates the learning rate during training."
   ]
  },
  {
   "cell_type": "code",
   "execution_count": 18,
   "metadata": {
    "colab": {},
    "colab_type": "code",
    "id": "aJi-xY2VRC03"
   },
   "outputs": [
    {
     "name": "stdout",
     "output_type": "stream",
     "text": [
      "\n",
      "Epoch 00001: LearningRateScheduler reducing learning rate to 0.005.\n",
      "Epoch 1/5\n",
      "26/26 [==============================] - 31s 1s/step - loss: 0.6780 - accuracy: 0.5827 - val_loss: 0.7077 - val_accuracy: 0.4341\n",
      "\n",
      "Epoch 00002: LearningRateScheduler reducing learning rate to 0.0025.\n",
      "Epoch 2/5\n",
      "26/26 [==============================] - 20s 784ms/step - loss: 0.6612 - accuracy: 0.5681 - val_loss: 0.6706 - val_accuracy: 0.5415\n",
      "\n",
      "Epoch 00003: LearningRateScheduler reducing learning rate to 0.00125.\n",
      "Epoch 3/5\n",
      "26/26 [==============================] - 21s 799ms/step - loss: 0.6490 - accuracy: 0.6338 - val_loss: 0.6663 - val_accuracy: 0.5561\n",
      "\n",
      "Epoch 00004: LearningRateScheduler reducing learning rate to 0.000625.\n",
      "Epoch 4/5\n",
      "26/26 [==============================] - 20s 771ms/step - loss: 0.6441 - accuracy: 0.6642 - val_loss: 0.6645 - val_accuracy: 0.5610\n",
      "\n",
      "Epoch 00005: LearningRateScheduler reducing learning rate to 0.0003125.\n",
      "Epoch 5/5\n",
      "26/26 [==============================] - 21s 792ms/step - loss: 0.6412 - accuracy: 0.6557 - val_loss: 0.6621 - val_accuracy: 0.5951\n"
     ]
    },
    {
     "data": {
      "text/plain": [
       "<tensorflow.python.keras.callbacks.History at 0x7750bdfe6610>"
      ]
     },
     "execution_count": 18,
     "metadata": {},
     "output_type": "execute_result"
    }
   ],
   "source": [
    "model = build_model(dense_units=256)\n",
    "model.compile(\n",
    "    optimizer='sgd',\n",
    "    loss='sparse_categorical_crossentropy', \n",
    "    metrics=['accuracy'])\n",
    "  \n",
    "def step_decay(epoch):\n",
    "\tinitial_lr = 0.01\n",
    "\tdrop = 0.5\n",
    "\tepochs_drop = 1\n",
    "\tlr = initial_lr * math.pow(drop, math.floor((1+epoch)/epochs_drop))\n",
    "\treturn lr\n",
    "\n",
    "model.fit(train_batches, \n",
    "          epochs=5, \n",
    "          validation_data=validation_batches, \n",
    "          callbacks=[LearningRateScheduler(step_decay, verbose=1),\n",
    "                    TensorBoard(log_dir='./log_dir')])"
   ]
  },
  {
   "cell_type": "code",
   "execution_count": 19,
   "metadata": {
    "colab": {},
    "colab_type": "code",
    "id": "M2S4n8nrbV91"
   },
   "outputs": [
    {
     "data": {
      "text/html": [
       "\n",
       "      <iframe id=\"tensorboard-frame-833056a884d12a61\" width=\"100%\" height=\"800\" frameborder=\"0\">\n",
       "      </iframe>\n",
       "      <script>\n",
       "        (function() {\n",
       "          const frame = document.getElementById(\"tensorboard-frame-833056a884d12a61\");\n",
       "          const url = new URL(\"/\", window.location);\n",
       "          url.port = 6007;\n",
       "          frame.src = url;\n",
       "        })();\n",
       "      </script>\n",
       "  "
      ],
      "text/plain": [
       "<IPython.core.display.HTML object>"
      ]
     },
     "metadata": {},
     "output_type": "display_data"
    }
   ],
   "source": [
    "%tensorboard --logdir log_dir"
   ]
  },
  {
   "cell_type": "markdown",
   "metadata": {
    "colab_type": "text",
    "id": "y0wcuQyJE_UK"
   },
   "source": [
    "## [ReduceLROnPlateau](https://keras.io/api/callbacks/reduce_lr_on_plateau/)\n",
    "\n",
    "Reduce learning rate when a metric has stopped improving."
   ]
  },
  {
   "cell_type": "code",
   "execution_count": 20,
   "metadata": {
    "colab": {},
    "colab_type": "code",
    "id": "4naxZ-eCFB27"
   },
   "outputs": [
    {
     "name": "stdout",
     "output_type": "stream",
     "text": [
      "Epoch 1/50\n",
      "26/26 [==============================] - 22s 843ms/step - loss: 0.6724 - accuracy: 0.5730 - val_loss: 0.6491 - val_accuracy: 0.6537\n",
      "Epoch 2/50\n",
      "25/26 [===========================>..] - ETA: 0s - loss: 0.6191 - accuracy: 0.7375\n",
      "Epoch 00002: ReduceLROnPlateau reducing learning rate to 0.0019999999552965165.\n",
      "26/26 [==============================] - 21s 791ms/step - loss: 0.6151 - accuracy: 0.7397 - val_loss: 0.7671 - val_accuracy: 0.4341\n",
      "Epoch 3/50\n",
      "26/26 [==============================] - 20s 785ms/step - loss: 0.5791 - accuracy: 0.7628 - val_loss: 0.5850 - val_accuracy: 0.7902\n",
      "Epoch 4/50\n",
      "26/26 [==============================] - 20s 785ms/step - loss: 0.5497 - accuracy: 0.8212 - val_loss: 0.5494 - val_accuracy: 0.8049\n",
      "Epoch 5/50\n",
      "26/26 [==============================] - 21s 792ms/step - loss: 0.5348 - accuracy: 0.8358 - val_loss: 0.5362 - val_accuracy: 0.8244\n",
      "Epoch 6/50\n",
      "26/26 [==============================] - 21s 796ms/step - loss: 0.5149 - accuracy: 0.8333 - val_loss: 0.5158 - val_accuracy: 0.8341\n",
      "Epoch 7/50\n",
      "26/26 [==============================] - 21s 799ms/step - loss: 0.4959 - accuracy: 0.8418 - val_loss: 0.4992 - val_accuracy: 0.8390\n",
      "Epoch 8/50\n",
      "26/26 [==============================] - 20s 781ms/step - loss: 0.4786 - accuracy: 0.8309 - val_loss: 0.4755 - val_accuracy: 0.8390\n",
      "Epoch 9/50\n",
      "26/26 [==============================] - 20s 780ms/step - loss: 0.4593 - accuracy: 0.8443 - val_loss: 0.4613 - val_accuracy: 0.8585\n",
      "Epoch 10/50\n",
      "26/26 [==============================] - 20s 781ms/step - loss: 0.4434 - accuracy: 0.8370 - val_loss: 0.4459 - val_accuracy: 0.8634\n",
      "Epoch 11/50\n",
      "26/26 [==============================] - 20s 781ms/step - loss: 0.4259 - accuracy: 0.8540 - val_loss: 0.4178 - val_accuracy: 0.8537\n",
      "Epoch 12/50\n",
      "25/26 [===========================>..] - ETA: 0s - loss: 0.4105 - accuracy: 0.8487\n",
      "Epoch 00012: ReduceLROnPlateau reducing learning rate to 0.001.\n",
      "26/26 [==============================] - 20s 785ms/step - loss: 0.4160 - accuracy: 0.8431 - val_loss: 0.4488 - val_accuracy: 0.8293\n",
      "Epoch 13/50\n",
      "25/26 [===========================>..] - ETA: 0s - loss: 0.3981 - accuracy: 0.8550\n",
      "Epoch 00013: ReduceLROnPlateau reducing learning rate to 0.001.\n",
      "26/26 [==============================] - 21s 789ms/step - loss: 0.3978 - accuracy: 0.8540 - val_loss: 0.4435 - val_accuracy: 0.8341\n",
      "Epoch 14/50\n",
      "26/26 [==============================] - 20s 781ms/step - loss: 0.3933 - accuracy: 0.8589 - val_loss: 0.3952 - val_accuracy: 0.8829\n",
      "Epoch 15/50\n",
      "26/26 [==============================] - 20s 781ms/step - loss: 0.3863 - accuracy: 0.8613 - val_loss: 0.3832 - val_accuracy: 0.8927\n",
      "Epoch 16/50\n",
      "25/26 [===========================>..] - ETA: 0s - loss: 0.3764 - accuracy: 0.8737\n",
      "Epoch 00016: ReduceLROnPlateau reducing learning rate to 0.001.\n",
      "26/26 [==============================] - 20s 785ms/step - loss: 0.3762 - accuracy: 0.8747 - val_loss: 0.3940 - val_accuracy: 0.8829\n",
      "Epoch 17/50\n",
      "26/26 [==============================] - 20s 784ms/step - loss: 0.3719 - accuracy: 0.8698 - val_loss: 0.3702 - val_accuracy: 0.8976\n",
      "Epoch 18/50\n",
      "26/26 [==============================] - 20s 787ms/step - loss: 0.3618 - accuracy: 0.8771 - val_loss: 0.3595 - val_accuracy: 0.8976\n",
      "Epoch 19/50\n",
      "26/26 [==============================] - 21s 790ms/step - loss: 0.3539 - accuracy: 0.8783 - val_loss: 0.3481 - val_accuracy: 0.8732\n",
      "Epoch 20/50\n",
      "25/26 [===========================>..] - ETA: 0s - loss: 0.3499 - accuracy: 0.8775\n",
      "Epoch 00020: ReduceLROnPlateau reducing learning rate to 0.001.\n",
      "26/26 [==============================] - 20s 781ms/step - loss: 0.3504 - accuracy: 0.8783 - val_loss: 0.3776 - val_accuracy: 0.8829\n",
      "Epoch 21/50\n",
      "26/26 [==============================] - 20s 784ms/step - loss: 0.3433 - accuracy: 0.8771 - val_loss: 0.3429 - val_accuracy: 0.9024\n",
      "Epoch 22/50\n",
      "26/26 [==============================] - 20s 773ms/step - loss: 0.3357 - accuracy: 0.8856 - val_loss: 0.3292 - val_accuracy: 0.8976\n",
      "Epoch 23/50\n",
      "26/26 [==============================] - 21s 799ms/step - loss: 0.3294 - accuracy: 0.8929 - val_loss: 0.3222 - val_accuracy: 0.8878\n",
      "Epoch 24/50\n",
      "25/26 [===========================>..] - ETA: 0s - loss: 0.3246 - accuracy: 0.8975\n",
      "Epoch 00024: ReduceLROnPlateau reducing learning rate to 0.001.\n",
      "26/26 [==============================] - 21s 789ms/step - loss: 0.3252 - accuracy: 0.8966 - val_loss: 0.3333 - val_accuracy: 0.9024\n",
      "Epoch 25/50\n",
      "25/26 [===========================>..] - ETA: 0s - loss: 0.3208 - accuracy: 0.8888\n",
      "Epoch 00025: ReduceLROnPlateau reducing learning rate to 0.001.\n",
      "26/26 [==============================] - 20s 773ms/step - loss: 0.3196 - accuracy: 0.8893 - val_loss: 0.3255 - val_accuracy: 0.9024\n",
      "Epoch 26/50\n",
      "26/26 [==============================] - 20s 781ms/step - loss: 0.3178 - accuracy: 0.9075 - val_loss: 0.3090 - val_accuracy: 0.9073\n",
      "Epoch 27/50\n",
      "26/26 [==============================] - 20s 773ms/step - loss: 0.3055 - accuracy: 0.9002 - val_loss: 0.3014 - val_accuracy: 0.9122\n",
      "Epoch 28/50\n",
      "25/26 [===========================>..] - ETA: 0s - loss: 0.3050 - accuracy: 0.8963\n",
      "Epoch 00028: ReduceLROnPlateau reducing learning rate to 0.001.\n",
      "26/26 [==============================] - 20s 781ms/step - loss: 0.2981 - accuracy: 0.8990 - val_loss: 0.3170 - val_accuracy: 0.9024\n",
      "Epoch 29/50\n",
      "26/26 [==============================] - 20s 776ms/step - loss: 0.2933 - accuracy: 0.9088 - val_loss: 0.2858 - val_accuracy: 0.9024\n",
      "Epoch 30/50\n",
      "26/26 [==============================] - 20s 777ms/step - loss: 0.2882 - accuracy: 0.9051 - val_loss: 0.2778 - val_accuracy: 0.8927\n",
      "Epoch 31/50\n",
      "26/26 [==============================] - 20s 785ms/step - loss: 0.2813 - accuracy: 0.9051 - val_loss: 0.2724 - val_accuracy: 0.9122\n",
      "Epoch 32/50\n",
      "26/26 [==============================] - 20s 770ms/step - loss: 0.2746 - accuracy: 0.9148 - val_loss: 0.2664 - val_accuracy: 0.9122\n",
      "Epoch 33/50\n",
      "26/26 [==============================] - 20s 780ms/step - loss: 0.2672 - accuracy: 0.9221 - val_loss: 0.2621 - val_accuracy: 0.9122\n",
      "Epoch 34/50\n",
      "25/26 [===========================>..] - ETA: 0s - loss: 0.2616 - accuracy: 0.9200\n",
      "Epoch 00034: ReduceLROnPlateau reducing learning rate to 0.001.\n",
      "26/26 [==============================] - 20s 781ms/step - loss: 0.2623 - accuracy: 0.9209 - val_loss: 0.2640 - val_accuracy: 0.9122\n",
      "Epoch 35/50\n",
      "26/26 [==============================] - 20s 773ms/step - loss: 0.2555 - accuracy: 0.9246 - val_loss: 0.2553 - val_accuracy: 0.9122\n",
      "Epoch 36/50\n",
      "26/26 [==============================] - 20s 769ms/step - loss: 0.2478 - accuracy: 0.9331 - val_loss: 0.2539 - val_accuracy: 0.9122\n",
      "Epoch 37/50\n",
      "26/26 [==============================] - 21s 811ms/step - loss: 0.2457 - accuracy: 0.9282 - val_loss: 0.2469 - val_accuracy: 0.9122\n",
      "Epoch 38/50\n",
      "26/26 [==============================] - 20s 769ms/step - loss: 0.2377 - accuracy: 0.9307 - val_loss: 0.2374 - val_accuracy: 0.9171\n",
      "Epoch 39/50\n",
      "25/26 [===========================>..] - ETA: 0s - loss: 0.2377 - accuracy: 0.9337\n",
      "Epoch 00039: ReduceLROnPlateau reducing learning rate to 0.001.\n",
      "26/26 [==============================] - 20s 788ms/step - loss: 0.2354 - accuracy: 0.9355 - val_loss: 0.2388 - val_accuracy: 0.9171\n",
      "Epoch 40/50\n",
      "26/26 [==============================] - 20s 777ms/step - loss: 0.2259 - accuracy: 0.9380 - val_loss: 0.2341 - val_accuracy: 0.9220\n",
      "Epoch 41/50\n",
      "25/26 [===========================>..] - ETA: 0s - loss: 0.2209 - accuracy: 0.9463\n",
      "Epoch 00041: ReduceLROnPlateau reducing learning rate to 0.001.\n",
      "26/26 [==============================] - 20s 783ms/step - loss: 0.2220 - accuracy: 0.9477 - val_loss: 0.2391 - val_accuracy: 0.9220\n",
      "Epoch 42/50\n",
      "25/26 [===========================>..] - ETA: 0s - loss: 0.2156 - accuracy: 0.9400\n",
      "Epoch 00042: ReduceLROnPlateau reducing learning rate to 0.001.\n",
      "26/26 [==============================] - 20s 787ms/step - loss: 0.2166 - accuracy: 0.9404 - val_loss: 0.2461 - val_accuracy: 0.9268\n",
      "Epoch 43/50\n",
      "26/26 [==============================] - 20s 781ms/step - loss: 0.2123 - accuracy: 0.9501 - val_loss: 0.2135 - val_accuracy: 0.9268\n",
      "Epoch 44/50\n",
      "26/26 [==============================] - 21s 797ms/step - loss: 0.2057 - accuracy: 0.9477 - val_loss: 0.2132 - val_accuracy: 0.9220\n",
      "Epoch 45/50\n",
      "26/26 [==============================] - 20s 784ms/step - loss: 0.2019 - accuracy: 0.9526 - val_loss: 0.2006 - val_accuracy: 0.9171\n",
      "Epoch 46/50\n",
      "25/26 [===========================>..] - ETA: 0s - loss: 0.2011 - accuracy: 0.9525\n",
      "Epoch 00046: ReduceLROnPlateau reducing learning rate to 0.001.\n",
      "26/26 [==============================] - 20s 773ms/step - loss: 0.1989 - accuracy: 0.9526 - val_loss: 0.2121 - val_accuracy: 0.9220\n",
      "Epoch 47/50\n",
      "25/26 [===========================>..] - ETA: 0s - loss: 0.1946 - accuracy: 0.9525\n",
      "Epoch 00047: ReduceLROnPlateau reducing learning rate to 0.001.\n",
      "26/26 [==============================] - 21s 789ms/step - loss: 0.1934 - accuracy: 0.9526 - val_loss: 0.2112 - val_accuracy: 0.9220\n",
      "Epoch 48/50\n",
      "25/26 [===========================>..] - ETA: 0s - loss: 0.1863 - accuracy: 0.9600\n",
      "Epoch 00048: ReduceLROnPlateau reducing learning rate to 0.001.\n",
      "26/26 [==============================] - 21s 796ms/step - loss: 0.1872 - accuracy: 0.9599 - val_loss: 0.2024 - val_accuracy: 0.9220\n",
      "Epoch 49/50\n",
      "25/26 [===========================>..] - ETA: 0s - loss: 0.1935 - accuracy: 0.9513\n",
      "Epoch 00049: ReduceLROnPlateau reducing learning rate to 0.001.\n",
      "26/26 [==============================] - 21s 792ms/step - loss: 0.1913 - accuracy: 0.9526 - val_loss: 0.2285 - val_accuracy: 0.9268\n",
      "Epoch 50/50\n",
      "26/26 [==============================] - 20s 785ms/step - loss: 0.1799 - accuracy: 0.9611 - val_loss: 0.1943 - val_accuracy: 0.9220\n"
     ]
    },
    {
     "data": {
      "text/plain": [
       "<tensorflow.python.keras.callbacks.History at 0x774fe054ac50>"
      ]
     },
     "execution_count": 20,
     "metadata": {},
     "output_type": "execute_result"
    }
   ],
   "source": [
    "model = build_model(dense_units=256)\n",
    "model.compile(\n",
    "    optimizer='sgd',\n",
    "    loss='sparse_categorical_crossentropy', \n",
    "    metrics=['accuracy'])\n",
    "  \n",
    "model.fit(train_batches, \n",
    "          epochs=50, \n",
    "          validation_data=validation_batches, \n",
    "          callbacks=[ReduceLROnPlateau(monitor='val_loss', \n",
    "                                       factor=0.2, verbose=1,\n",
    "                                       patience=1, min_lr=0.001),\n",
    "                     TensorBoard(log_dir='./log_dir')])"
   ]
  },
  {
   "cell_type": "code",
   "execution_count": null,
   "metadata": {
    "colab": {},
    "colab_type": "code",
    "id": "isfTWP4NYudk"
   },
   "outputs": [],
   "source": [
    "%tensorboard --logdir log_dir"
   ]
  }
 ],
 "metadata": {
  "colab": {
   "collapsed_sections": [],
   "include_colab_link": true,
   "name": "ExploringCallbacks.ipynb",
   "provenance": []
  },
  "kernelspec": {
   "display_name": "Python 3",
   "language": "python",
   "name": "python3"
  },
  "language_info": {
   "codemirror_mode": {
    "name": "ipython",
    "version": 3
   },
   "file_extension": ".py",
   "mimetype": "text/x-python",
   "name": "python",
   "nbconvert_exporter": "python",
   "pygments_lexer": "ipython3",
   "version": "3.7.6"
  }
 },
 "nbformat": 4,
 "nbformat_minor": 4
}
